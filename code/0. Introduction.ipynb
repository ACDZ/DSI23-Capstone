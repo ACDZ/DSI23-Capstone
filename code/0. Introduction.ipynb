{
 "cells": [
  {
   "cell_type": "markdown",
   "id": "5cd07c20",
   "metadata": {},
   "source": [
    "<img src=\"../images/GA.png\" style=\"width:600px; height:200px\"/>"
   ]
  },
  {
   "cell_type": "markdown",
   "id": "d94979d7",
   "metadata": {},
   "source": [
    "# Capstone Project - Predicting if soccer ball will curl from body angles"
   ]
  },
  {
   "cell_type": "markdown",
   "id": "c4b6498c",
   "metadata": {},
   "source": [
    "# Background\n",
    "\n",
    "I am a data scientist currently studying and my friend who is a football (soccer) coach has asked me for help."
   ]
  },
  {
   "attachments": {},
   "cell_type": "markdown",
   "id": "502ea2ee",
   "metadata": {},
   "source": [
    "# Problem Statement\n",
    "\n",
    "He is football coach wants to leverage technology to help promote his business and has asked me to come up with something useful that he can use easily to analyze his client's form and maybe use it on himself."
   ]
  },
  {
   "cell_type": "markdown",
   "id": "6cb2e52e",
   "metadata": {},
   "source": [
    "# Summary\n",
    "\n",
    "Football frames were collected from Youtube and edited using Davinci Resolve for masking purposes.\n",
    "Separate football frames were also taken from Soccer Event dataset (SEV).\n",
    "\n",
    "Mediapipe API was used as a machine learning solution to extract angle values of human poses in the frames.\n",
    "\n",
    "OpenCV was used as a computer vision package to enable the running of Mediapipe and also used for object detection and path painting.\n",
    "\n",
    "Angles were then compiled into a dataframe using Pandas, before traditional machine learning models were applied.\n",
    "\n",
    "This is a classification problem and it is approached by using all classification models found in the Pycaret library.\n",
    "\n",
    "The top classifier model picked by Pycaret was the extra trees classifier.\n",
    "The following models were then tested for the highest model performance :  \n",
    "    1. **Extra Trees Classifier**  \n",
    "    2. **Bagged Extra Trees Classfier**  \n",
    "    3. **Boosted Extra Trees Classifier**  \n",
    "    4. **Blended models of Extra Trees, Random Forest and Light Gradient Boost Classifiers**\n",
    "    \n",
    "The train, test scores and area under curve of the models were used to gauge the classifier performance.\n",
    "\n",
    "The criteria for selecting the models are the following:\n",
    "\n",
    "- **High Accuracy**\n",
    "- **Minimize False Negatives (High Recall)**\n",
    "- **Minimize False Positives (High Precision)**\n",
    "- **Good Generalization**\n",
    "\n",
    "High recall and high precision is required as we want to get correct predictions.\n",
    "\n",
    "In summary, **Boosted Extra Trees** was picked as the chosen classifier with the highest accuracy score of 87%. It had the highest recall score of 0.9067 and the second highest precision score of 0.8679, just shy of the top score of 0.8788. It also had the highest overall score (F1) of 0.8822."
   ]
  },
  {
   "cell_type": "markdown",
   "id": "b336f4c2",
   "metadata": {},
   "source": [
    "# Background Research\n",
    "\n",
    "\n",
    "#### 1. Kicking a free kick like Lionel Messi\n",
    "https://www.youtube.com/watch?v=4RcM3G0sWAQ&t=1s\n",
    "\n",
    "#### 2. Biomechanics study of Lionel Messi's free kick\n",
    "https://www.youtube.com/watch?v=dN13MaNSMts&t=2s\n",
    "\n",
    "#### 3. How to curl a football kick\n",
    "https://www.youtube.com/watch?v=vR2Grj1f0VE"
   ]
  },
  {
   "cell_type": "markdown",
   "id": "741fecd7",
   "metadata": {},
   "source": []
  },
  {
   "cell_type": "markdown",
   "id": "bd0ed54e",
   "metadata": {},
   "source": []
  }
 ],
 "metadata": {
  "kernelspec": {
   "display_name": "Python 3",
   "language": "python",
   "name": "python3"
  },
  "language_info": {
   "codemirror_mode": {
    "name": "ipython",
    "version": 3
   },
   "file_extension": ".py",
   "mimetype": "text/x-python",
   "name": "python",
   "nbconvert_exporter": "python",
   "pygments_lexer": "ipython3",
   "version": "3.8.11"
  }
 },
 "nbformat": 4,
 "nbformat_minor": 5
}
